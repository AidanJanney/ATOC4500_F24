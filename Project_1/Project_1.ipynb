{
 "cells": [
  {
   "cell_type": "markdown",
   "metadata": {},
   "source": [
    "\n",
    "# Lorenz 63 Model Code for Project \\# 1\n",
    "\n",
    "### Program to investigate concepts of tangent linear models, adjoint sensitivity, and singular vectors with the Lorenz 63 model\n",
    "    "
   ]
  },
  {
   "cell_type": "code",
   "execution_count": 1,
   "metadata": {},
   "outputs": [],
   "source": [
    "import numpy as np # NumPy for numerical computations\n",
    "import matplotlib.pyplot as plt # Matplotlib for plotting"
   ]
  },
  {
   "cell_type": "markdown",
   "metadata": {},
   "source": [
    "This is a program to investigate concepts of tangent linear models, adjoint sensitivity, and singular vectors with the Lorenz 63 model.\n",
    "   - Aneesh Subramanian, September 2023\n",
    "\n",
    "   - Ryan Torn, August 2020,\n",
    "   - using matlab code originally developed by Greg Hakim"
   ]
  },
  {
   "cell_type": "markdown",
   "metadata": {},
   "source": [
    "### Define the Lorenz 63 model equations"
   ]
  },
  {
   "cell_type": "code",
   "execution_count": 2,
   "metadata": {},
   "outputs": [],
   "source": [
    "def lorenz(x, y, z, s=10, r=28, b=2.667):\n",
    "    \"\"\"\n",
    "    Calculate the right-hand side of the Lorenz 63 model equations.\n",
    "\n",
    "    Parameters:\n",
    "    x, y, z : float\n",
    "        The current state variables.\n",
    "    s, r, b : float, optional\n",
    "        The parameters for the Lorenz equations. Default values are s=10, r=28, b=2.667.\n",
    "\n",
    "    Returns:\n",
    "    dxdt, dydt, dzdt : float\n",
    "        The rate of change of the state variables.\n",
    "    \"\"\"\n",
    "    dxdt = s * (y - x)\n",
    "    dydt = r * x - y - x * z\n",
    "    dzdt = x * y - b * z\n",
    "    return dxdt, dydt, dzdt"
   ]
  },
  {
   "cell_type": "markdown",
   "metadata": {},
   "source": [
    "###  Compute the tangent linear model matrix for Lorenz 63 model by brute force based on input forecast trajectory"
   ]
  },
  {
   "cell_type": "code",
   "execution_count": 3,
   "metadata": {},
   "outputs": [],
   "source": [
    "def lorenz_tlm(tvec, x, y, z, s=10, r=28, b=2.667):\n",
    "    \"\"\"\n",
    "    Compute the tangent linear model (TLM) matrix for the Lorenz 63 system.\n",
    "    Tangent linear model also sometimes called propogator matrix.\n",
    "\n",
    "    This function calculates the TLM by integrating the linearized equations\n",
    "    along a given trajectory.\n",
    "\n",
    "    Parameters:\n",
    "    tvec (array): Time vector for the trajectory\n",
    "    x, y, z (arrays): State variables of the Lorenz system along the trajectory\n",
    "    s, r, b (float): Lorenz system parameters (default: s=10, r=28, b=2.667)\n",
    "\n",
    "    Returns:\n",
    "    M (numpy.ndarray): The tangent linear model matrix\n",
    "\n",
    "    The TLM is computed using the following steps:\n",
    "    1. Initialize three basis vectors (v1, v2, v3)\n",
    "    2. For each time step:\n",
    "       a. Compute the instantaneous Jacobian matrix (tlm)\n",
    "       b. Evolve each basis vector using the Jacobian\n",
    "    3. Combine the final basis vectors to form the TLM matrix\n",
    "    \"\"\"\n",
    "    # Initialize basis vectors\n",
    "    v1 = np.array([1, 0, 0])\n",
    "    v2 = np.array([0, 1, 0])\n",
    "    v3 = np.array([0, 0, 1])\n",
    "\n",
    "    for t in range(len(tvec) - 1):\n",
    "        # Compute the instantaneous Jacobian matrix\n",
    "        tlm = np.array([\n",
    "            [-s,     s,      0],\n",
    "            [(r - z[t]), -1., -x[t]],\n",
    "            [y[t],   x[t],   -b]\n",
    "        ])\n",
    "\n",
    "        # Time step for this iteration\n",
    "        dt = tvec[t + 1] - tvec[t]\n",
    "\n",
    "        # Evolve each basis vector\n",
    "        v1 = v1 + np.matmul(tlm, v1) * dt\n",
    "        v2 = v2 + np.matmul(tlm, v2) * dt\n",
    "        v3 = v3 + np.matmul(tlm, v3) * dt\n",
    "\n",
    "    # Combine the evolved basis vectors to form the TLM matrix\n",
    "    M = np.transpose([v1, v2, v3])\n",
    "\n",
    "    return M"
   ]
  },
  {
   "cell_type": "markdown",
   "metadata": {},
   "source": [
    "###  Compute the distance between two points in Lorenz 63 space based on Euclidean distance norm"
   ]
  },
  {
   "cell_type": "code",
   "execution_count": 4,
   "metadata": {},
   "outputs": [],
   "source": [
    "def euclid_norm(x1, y1, z1, x2, y2, z2, verbose = False):\n",
    "    if(verbose):\n",
    "        print(\"x, y, z error: \", x2 - x1, y2 - y1, z2 - z1)\n",
    "\n",
    "    err = np.sqrt((x2 - x1) ** 2 + (y2 - y1) ** 2 + (z2 - z1) ** 2)\n",
    "    return err"
   ]
  },
  {
   "cell_type": "markdown",
   "metadata": {},
   "source": [
    "### Define model parameters (timestep, number of steps, forecast length...)"
   ]
  },
  {
   "cell_type": "code",
   "execution_count": 5,
   "metadata": {},
   "outputs": [],
   "source": [
    "dt = 0.002  # time step of the model (do not need to change)\n",
    "num_steps = 20000  # Number of time steps for full model trajectory\n",
    "\n",
    "step1 = 1000  # model time step to initiate forecast from\n",
    "fcst_len = 1.0  # forecast length in model timesteps\n",
    "tl_freq = 1  # frequency of model timesteps to use in computing tangent linear model\n",
    "sing_val = 1  # singular value plot/compute\n",
    "ic_error = np.array([0.1, 0.1, 0.1])  # initial condition error to add to forecast ## identical in all directions initially\n",
    "xf_sens = np.array([0., 0., 1.])  # metric to compute sensitivity in x, y, z space (0, 0, 1) means compute sensitivity of z forecast\n",
    "\n",
    "plot3d = True  # True to plot forecast in 3D space\n",
    "plotxz = True  # True to plot in x-z plane\n",
    "plot_nlfcst = False  # True to plt non-linear forecast\n",
    "plot_sv = True  # True to plot singular vectors\n",
    "sv_plot_freq = 20  # Frequency of time steps to plot singular vectors\n",
    "\n",
    "fcst_steps = int(fcst_len / dt)"
   ]
  },
  {
   "cell_type": "markdown",
   "metadata": {},
   "source": [
    "###  Create arrays needed for calculations.  Need one more for the initial values"
   ]
  },
  {
   "cell_type": "code",
   "execution_count": 6,
   "metadata": {},
   "outputs": [],
   "source": [
    "xtraj = np.empty(num_steps + 1) # Full x trajectory\n",
    "ytraj = np.empty(num_steps + 1) # Full y trajectory\n",
    "ztraj = np.empty(num_steps + 1) # Full z trajectory\n",
    "\n",
    "tfcst = np.empty(fcst_steps + 1) # Time array for forecast period\n",
    "xfcst = np.empty(fcst_steps + 1) # x forecast with initial condition error\n",
    "yfcst = np.empty(fcst_steps + 1) # y forecast with initial condition error\n",
    "zfcst = np.empty(fcst_steps + 1) # z forecast with initial condition error\n",
    "\n",
    "xtrue = np.empty(fcst_steps + 1) # x true forecast (without initial condition error)\n",
    "ytrue = np.empty(fcst_steps + 1) # y true forecast (without initial condition error)\n",
    "ztrue = np.empty(fcst_steps + 1) # z true forecast (without initial condition error)\n",
    "\n",
    "# Arrays for tangent linear model trajectory (will be populated later)\n",
    "\n",
    "ttlm = []\n",
    "xtlm = []\n",
    "ytlm = []\n",
    "ztlm = []"
   ]
  },
  {
   "cell_type": "markdown",
   "metadata": {},
   "source": [
    "### Set initial values for the full trajectory"
   ]
  },
  {
   "cell_type": "code",
   "execution_count": 7,
   "metadata": {},
   "outputs": [],
   "source": [
    "xtraj[0], ytraj[0], ztraj[0] = (0., 1., 1.05)"
   ]
  },
  {
   "cell_type": "markdown",
   "metadata": {},
   "source": [
    "Step through time, calculating the partial derivatives at the current point and using them to estimate the next point"
   ]
  },
  {
   "cell_type": "code",
   "execution_count": 8,
   "metadata": {},
   "outputs": [],
   "source": [
    "for i in range(num_steps):\n",
    "    x_dot, y_dot, z_dot = lorenz(xtraj[i], ytraj[i], ztraj[i])\n",
    "    xtraj[i + 1] = xtraj[i] + (x_dot * dt)\n",
    "    ytraj[i + 1] = ytraj[i] + (y_dot * dt)\n",
    "    ztraj[i + 1] = ztraj[i] + (z_dot * dt)"
   ]
  },
  {
   "cell_type": "markdown",
   "metadata": {},
   "source": [
    "###  Now initiate forecast from specified time step, add initial condition error"
   ]
  },
  {
   "cell_type": "code",
   "execution_count": 9,
   "metadata": {},
   "outputs": [],
   "source": [
    "tfcst[0] = 0.0\n",
    "xtrue[0], ytrue[0], ztrue[0] = (xtraj[step1], ytraj[step1], ztraj[step1])\n",
    "xfcst[0], yfcst[0], zfcst[0] = (xtrue[0] + ic_error[0], ytrue[0] + ic_error[1], ztrue[0] + ic_error[2])"
   ]
  },
  {
   "cell_type": "markdown",
   "metadata": {},
   "source": [
    "###  Step the forecast and truth through time"
   ]
  },
  {
   "cell_type": "code",
   "execution_count": 10,
   "metadata": {},
   "outputs": [],
   "source": [
    "ttlm = []\n",
    "xtlm = []\n",
    "ytlm = []\n",
    "ztlm = []\n",
    "\n",
    "for i in range(fcst_steps):\n",
    "\n",
    "    tfcst[i + 1] = tfcst[i] + dt\n",
    "\n",
    "    x_dot, y_dot, z_dot = lorenz(xfcst[i], yfcst[i], zfcst[i])\n",
    "    xfcst[i + 1] = xfcst[i] + (x_dot * dt)\n",
    "    yfcst[i + 1] = yfcst[i] + (y_dot * dt)\n",
    "    zfcst[i + 1] = zfcst[i] + (z_dot * dt)\n",
    "\n",
    "    x_dot, y_dot, z_dot = lorenz(xtrue[i], ytrue[i], ztrue[i])\n",
    "    xtrue[i + 1] = xtrue[i] + (x_dot * dt)\n",
    "    ytrue[i + 1] = ytrue[i] + (y_dot * dt)\n",
    "    ztrue[i + 1] = ztrue[i] + (z_dot * dt)\n",
    "\n",
    "    #  Add this forecast time to tangent linear trajectory, if needed\n",
    "    if (i % tl_freq == 0): # will add every time step for tl_freq = 0\n",
    "        ttlm.append(tfcst[i])\n",
    "        xtlm.append(xtrue[i])\n",
    "        ytlm.append(ytrue[i])\n",
    "        ztlm.append(ztrue[i])\n",
    "\n",
    "ttlm.append(tfcst[-1])\n",
    "xtlm.append(xtrue[-1])\n",
    "ytlm.append(ytrue[-1])\n",
    "ztlm.append(ztrue[-1])"
   ]
  },
  {
   "cell_type": "markdown",
   "metadata": {},
   "source": [
    "\n",
    "# Project 1 #\n"
   ]
  },
  {
   "cell_type": "code",
   "execution_count": 11,
   "metadata": {},
   "outputs": [],
   "source": [
    "dt = 0.002  # time step of the model (do not need to change)\n",
    "num_steps = 20000  # Number of time steps for full model trajectory\n",
    "\n",
    "step1 = 1000  # model time step to initiate forecast from\n",
    "fcst_len = 1.0  # forecast length in model timesteps\n",
    "tl_freq = 1  # frequency of model timesteps to use in computing tangent linear model\n",
    "sing_val = 1  # singular value plot/compute\n",
    "ic_error = np.array([0.1, 0.1, 0.1])  # initial condition error to add to forecast ## identical in all directions initially\n",
    "xf_sens = np.array([0., 0., 1.])  # metric to compute sensitivity in x, y, z space (0, 0, 1) means compute sensitivity of z forecast\n",
    "\n",
    "plot3d = True  # True to plot forecast in 3D space\n",
    "plotxz = True  # True to plot in x-z plane\n",
    "plot_nlfcst = False  # True to plt non-linear forecast\n",
    "plot_sv = True  # True to plot singular vectors\n",
    "sv_plot_freq = 20  # Frequency of time steps to plot singular vectors\n",
    "\n",
    "fcst_steps = int(fcst_len / dt)"
   ]
  },
  {
   "cell_type": "code",
   "execution_count": 12,
   "metadata": {},
   "outputs": [],
   "source": [
    "## Functions do not currently allow for modification of tl_freq, they will eventually!\n",
    "def find_xyz_truth(xtraj, ytraj, ztraj, init_step, fcst_steps):\n",
    "    xtrue = xtraj[init_step:init_step+fcst_steps+1]\n",
    "    ytrue = ytraj[init_step:init_step+fcst_steps+1]\n",
    "    ztrue = ztraj[init_step:init_step+fcst_steps+1]\n",
    "    return(xtrue, ytrue, ztrue)\n",
    "\n",
    "def find_xyz_fcst(xtraj, ytraj, ztraj, init_step, fcst_steps, ic_error):\n",
    "    xfcst = np.empty(fcst_steps + 1) # x forecast with initial condition error\n",
    "    yfcst = np.empty(fcst_steps + 1) # y forecast with initial condition error\n",
    "    zfcst = np.empty(fcst_steps + 1) # z forecast with initial condition error\n",
    "\n",
    "    xfcst[0] = xtraj[init_step] + ic_error[0]\n",
    "    yfcst[0] = ytraj[init_step] + ic_error[1]\n",
    "    zfcst[0] = ztraj[init_step] + ic_error[2]\n",
    "    \n",
    "    for i in range(fcst_steps):\n",
    "        x_dot, y_dot, z_dot = lorenz(xfcst[i], yfcst[i], zfcst[i])\n",
    "        xfcst[i + 1] = xfcst[i] + (x_dot * dt)\n",
    "        yfcst[i + 1] = yfcst[i] + (y_dot * dt)\n",
    "        zfcst[i + 1] = zfcst[i] + (z_dot * dt)\n",
    "    \n",
    "    return (xfcst, yfcst, zfcst)"
   ]
  },
  {
   "cell_type": "code",
   "execution_count": 13,
   "metadata": {},
   "outputs": [],
   "source": [
    "def find_error_for_windows(trajectories, fcst_len=1.0, window_freq=500, dt=0.002, ic_error=np.array([0.1, 0.1, 0.1]), tl_freq=1):\n",
    "    \"\"\"\n",
    "    Takes in parameters for finding the TLM starting at a variety of time steps specified by window_freq\n",
    "    \n",
    "    Args:\n",
    "        *trajectories<tuple>: (xtraj, ytraj, ztraj) (assumed to have 20000 steps)\n",
    "        *fcst_len<int>: length of forecast window (which will determine number of steps per window w/ dt)\n",
    "        *window_freq<int>: how often to take a new starting point\n",
    "        *dt<float>: resolution of time with which to step through the forecast and TLM generation\n",
    "        *ic_error<list>: [x_err, y_err, z_err] initial isostatic error to apply to the forecast\n",
    "        *tl_freq<float>: period of time steps to calculate TLM with\n",
    "    \"\"\"\n",
    "\n",
    "    xtraj, ytraj, ztraj = trajectories # extract trajectories\n",
    "    \n",
    "    fcst_steps = int(fcst_len / dt) # number of steps in a window based on dt\n",
    "    \n",
    "    ## Changing the window starting point \n",
    "    init_steps = np.arange(0,(20000-fcst_steps+window_freq),window_freq, dtype = int) \n",
    "    # starting step for each iteration, windows of 500 and steps of 250 between them, \n",
    "    # so half and half overlap\n",
    "\n",
    "    time_tlm = np.arange(0, (fcst_steps)*dt, dt) \n",
    "    error_compilation = [] ## will store all of the necessary info for each run as a tuple\n",
    "    ## e.g. (initial_step, propogator_matrix, tlm_error_euclidian, nonlin_model_error)\n",
    "\n",
    "    for step in init_steps:\n",
    "        xtrue,ytrue,ztrue = find_xyz_truth(xtraj,ytraj,ztraj,step,fcst_steps)\n",
    "        xfcst,yfcst,zfcst = find_xyz_fcst(xtraj,ytraj,ztraj,step,fcst_steps,ic_error)\n",
    "        \n",
    "        xtlm = xtrue\n",
    "\n",
    "        ## Propogator Matrix and Projected xyz error\n",
    "        M = lorenz_tlm(time_tlm[::tl_freq], xtrue[:-1:tl_freq], ytrue[:-1:tl_freq], ztrue[:-1:tl_freq])\n",
    "        tlm_error_xyz = np.matmul(M, ic_error) # propogating initial condition error forward\n",
    "\n",
    "        ## Euclidian Error Calculations (total distance from true trajectory)\n",
    "        tlm_error = euclid_norm(tlm_error_xyz[0], tlm_error_xyz[1], tlm_error_xyz[2], 0.0, 0.0, 0.0)\n",
    "        fcst_error = euclid_norm(xfcst[-1], yfcst[-1], zfcst[-1], xtrue[-1], ytrue[-1], ztrue[-1])\n",
    "\n",
    "        ## Final list of stuff to add to record\n",
    "        ## Form of [initial_step,tlm_error_euclidian, nonlin_model_error, propogator_matrix]\n",
    "        step_results = [step,tlm_error, fcst_error,M]\n",
    "        error_compilation.append(step_results)\n",
    "        \n",
    "    return error_compilation"
   ]
  },
  {
   "cell_type": "markdown",
   "metadata": {},
   "source": [
    "## Question \\#1 ##"
   ]
  },
  {
   "cell_type": "markdown",
   "metadata": {},
   "source": [
    "Run the model in the default configuration we have used in class. We will call this the control\n",
    "trajectory of the model. For a variety of points along the control trajectory, compute the propagator\n",
    "matrix (M) for a 1.0 time unit forecast (hereafter denoted tf ) using the code provided. At each\n",
    "of these points, use the propagator matrix to predict the forecast error via the Euclidean norm for\n",
    "different sized isotropic initial condition errors (i.e., change the magnitude of the error in variable\n",
    "ic_error)). Next, compute the forecast error with the non-linear model by adding the isotropic\n",
    "error to the control trajectory and integrating the nonlinear model forward. How does the linear\n",
    "prediction of the forecast error compare to the actual error? Are there locations within the state\n",
    "space volume where the linear model errors disagree with the nonlinear model? What does that\n",
    "say about the Lorenz 63 model at these points?\n",
    "----\n",
    "General Approach:\n",
    "* Initial step every 250 steps, still using a 500 step window for each TLM\n",
    "* Extract errors for each window and compare visually/statistically \n",
    "* Vary isotropic error to test different pieces of the trajectory"
   ]
  },
  {
   "cell_type": "code",
   "execution_count": 14,
   "metadata": {},
   "outputs": [],
   "source": [
    "## Get error and TLM for given frequency across all possible windows\n",
    "window_result = find_error_for_windows(trajectories = (xtraj,ytraj,ztraj),window_freq=250)\n",
    "TLM_comp = [[window[0], window[3]] for window in window_result]\n",
    "error_comp = np.array([np.array([window[0], window[1], window[2], window[1]-window[2]]) for window in window_result])"
   ]
  },
  {
   "cell_type": "code",
   "execution_count": null,
   "metadata": {},
   "outputs": [],
   "source": []
  }
 ],
 "metadata": {
  "kernelspec": {
   "display_name": "ATOC_NWP",
   "language": "python",
   "name": "atoc_nwp"
  },
  "language_info": {
   "codemirror_mode": {
    "name": "ipython",
    "version": 3
   },
   "file_extension": ".py",
   "mimetype": "text/x-python",
   "name": "python",
   "nbconvert_exporter": "python",
   "pygments_lexer": "ipython3",
   "version": "3.10.6"
  }
 },
 "nbformat": 4,
 "nbformat_minor": 5
}
