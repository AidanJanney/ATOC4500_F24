{
 "cells": [
  {
   "cell_type": "code",
   "execution_count": 1,
   "metadata": {},
   "outputs": [
    {
     "name": "stdout",
     "output_type": "stream",
     "text": [
      "The linear propagator matrix M at time T is:\n",
      "[[ 9.48265316e+48  7.56071788e+48 -5.34782300e+47]\n",
      " [ 2.00948090e+49  1.60220119e+49 -1.13326386e+48]\n",
      " [ 5.49119979e+48  4.37824855e+48 -3.09680888e+47]]\n"
     ]
    }
   ],
   "source": [
    "import numpy as np\n",
    "from scipy.integrate import odeint\n",
    "\n",
    "# Define the Lorenz '63 model equations\n",
    "def lorenz_63(state, t, sigma, rho, beta):\n",
    "    x, y, z = state\n",
    "    return [\n",
    "        sigma * (y - x),\n",
    "        x * (rho - z) - y,\n",
    "        x * y - beta * z\n",
    "    ]\n",
    "\n",
    "# Define the Jacobian matrix of the Lorenz '63 model\n",
    "def jacobian_lorenz_63(state, sigma, rho, beta):\n",
    "    x, y, z = state\n",
    "    return np.array([\n",
    "        [-sigma, sigma, 0],\n",
    "        [rho - z, -1, -x],\n",
    "        [y, x, -beta]\n",
    "    ])\n",
    "\n",
    "# Define the ODE for the linear propagator matrix M\n",
    "def linear_propagator_ODE(M, t, state_traj, sigma, rho, beta):\n",
    "    M = np.reshape(M, (3, 3))\n",
    "    state = state_traj[int(t)]\n",
    "    dMdt = np.dot(jacobian_lorenz_63(state, sigma, rho, beta), M)\n",
    "    return dMdt.flatten()\n",
    "\n",
    "# Time settings\n",
    "dt = 0.01\n",
    "T = 10.0\n",
    "time = np.arange(0, T, dt)\n",
    "\n",
    "# Lorenz '63 model parameters\n",
    "sigma = 10.0\n",
    "rho = 28.0\n",
    "beta = 8/3\n",
    "\n",
    "# Initial condition for the Lorenz '63 model\n",
    "initial_state = [1.0, 1.0, 1.0]\n",
    "\n",
    "# Integrate the Lorenz '63 model to get the trajectory\n",
    "state_traj = odeint(lorenz_63, initial_state, time, args=(sigma, rho, beta))\n",
    "\n",
    "# Initial condition for M(t=0) is the identity matrix\n",
    "M0 = np.identity(3).flatten()\n",
    "\n",
    "# Integrate the ODE for the linear propagator matrix M\n",
    "M_traj = odeint(linear_propagator_ODE, M0, time, args=(state_traj, sigma, rho, beta))\n",
    "\n",
    "# Extract M at the final time T\n",
    "M_final = np.reshape(M_traj[-1], (3, 3))\n",
    "\n",
    "print(\"The linear propagator matrix M at time T is:\")\n",
    "print(M_final)\n"
   ]
  },
  {
   "cell_type": "code",
   "execution_count": null,
   "metadata": {},
   "outputs": [],
   "source": []
  }
 ],
 "metadata": {
  "kernelspec": {
   "display_name": "GIA_Analytical",
   "language": "python",
   "name": "python3"
  },
  "language_info": {
   "codemirror_mode": {
    "name": "ipython",
    "version": 3
   },
   "file_extension": ".py",
   "mimetype": "text/x-python",
   "name": "python",
   "nbconvert_exporter": "python",
   "pygments_lexer": "ipython3",
   "version": "3.12.3"
  }
 },
 "nbformat": 4,
 "nbformat_minor": 4
}
