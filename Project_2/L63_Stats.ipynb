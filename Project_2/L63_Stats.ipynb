{
 "cells": [
  {
   "cell_type": "markdown",
   "metadata": {},
   "source": [
    "##   Code for creating background error statistics for the Lorenz 63 model.\n",
    "####      Code developed by Greg Hakim, Ryan Torn, Aneesh Subramanian."
   ]
  },
  {
   "cell_type": "code",
   "execution_count": 1,
   "metadata": {},
   "outputs": [
    {
     "ename": "ModuleNotFoundError",
     "evalue": "No module named 'netCDF4'",
     "output_type": "error",
     "traceback": [
      "\u001b[0;31m---------------------------------------------------------------------------\u001b[0m",
      "\u001b[0;31mModuleNotFoundError\u001b[0m                       Traceback (most recent call last)",
      "Cell \u001b[0;32mIn[1], line 2\u001b[0m\n\u001b[1;32m      1\u001b[0m \u001b[38;5;28;01mimport\u001b[39;00m \u001b[38;5;21;01mnumpy\u001b[39;00m \u001b[38;5;28;01mas\u001b[39;00m \u001b[38;5;21;01mnp\u001b[39;00m\n\u001b[0;32m----> 2\u001b[0m \u001b[38;5;28;01mimport\u001b[39;00m \u001b[38;5;21;01mnetCDF4\u001b[39;00m \u001b[38;5;28;01mas\u001b[39;00m \u001b[38;5;21;01mnc\u001b[39;00m\n\u001b[1;32m      3\u001b[0m \u001b[38;5;28;01mimport\u001b[39;00m \u001b[38;5;21;01mlorenz63_model\u001b[39;00m \u001b[38;5;28;01mas\u001b[39;00m \u001b[38;5;21;01mlor\u001b[39;00m\n\u001b[1;32m      5\u001b[0m num_steps \u001b[38;5;241m=\u001b[39m \u001b[38;5;241m4000\u001b[39m\n",
      "\u001b[0;31mModuleNotFoundError\u001b[0m: No module named 'netCDF4'"
     ]
    }
   ],
   "source": [
    "import numpy as np\n",
    "import netCDF4 as nc\n",
    "import lorenz63_model as lor\n",
    "\n",
    "num_steps = 4000\n",
    "\n",
    "xtraj = np.empty(num_steps+1)\n",
    "ytraj = np.empty(num_steps+1)\n",
    "ztraj = np.empty(num_steps+1)\n",
    "\n",
    "xtraj[0], ytraj[0], ztraj[0] = lor.advance(10., 20., 30., 100.)\n",
    "#xt, yt, zt = lor.advance(10., 20., 30., 100.)\n",
    "\n",
    "for i in range(num_steps):\n",
    "\n",
    "#  xf, yf, zf = lor.advance(xt+np.random.normal(0, 0.1, 1),yt+np.random.normal(0, 0.1, 1),zt+np.random.normal(0, 0.1, 1), 1.0)\n",
    "#  xv, yv, zv = lor.advance(xt,yt,zt, 1.0)\n",
    "#  xtraj[i] = xv-xf\n",
    "#  ytraj[i] = yv-yf\n",
    "#  ztraj[i] = zv-zf\n",
    "\n",
    "#  xt, yt, zt = lor.advance(xt,yt,zt, 0.1)\n",
    "\n",
    "  xtraj[i+1], ytraj[i+1], ztraj[i+1] = lor.advance(xtraj[i], ytraj[i], ztraj[i], 0.1)\n",
    "\n",
    "xm = np.mean(xtraj)\n",
    "ym = np.mean(ytraj)\n",
    "zm = np.mean(ztraj)\n",
    "\n",
    "xtraj[:] = xtraj[:] - xm\n",
    "ytraj[:] = ytraj[:] - ym\n",
    "ztraj[:] = ztraj[:] - zm\n",
    "\n",
    "B = np.empty((3, 3))\n",
    "\n",
    "B[0,0] = np.sum(xtraj[:]*xtraj[:]) / float(num_steps)\n",
    "B[1,1] = np.sum(ytraj[:]*ytraj[:]) / float(num_steps)\n",
    "B[2,2] = np.sum(ztraj[:]*ztraj[:]) / float(num_steps)\n",
    "B[0,1] = np.sum(xtraj[:]*ytraj[:]) / float(num_steps)\n",
    "B[1,0] = B[0,1]\n",
    "B[0,2] = np.sum(xtraj[:]*ztraj[:]) / float(num_steps)\n",
    "B[2,0] = B[0,2]\n",
    "B[1,2] = np.sum(ytraj[:]*ztraj[:]) / float(num_steps)\n",
    "B[2,1] = B[1,2]\n",
    "\n",
    "print(B)\n",
    "\n",
    "ncfile = nc.Dataset('L63_B.nc', mode='w')\n",
    "st_dim = ncfile.createDimension('state', 3)\n",
    "\n",
    "B_out = ncfile.createVariable('B_matrix',np.float32,('state','state'))\n",
    "\n",
    "B_out[:] = B\n",
    "\n",
    "ncfile.close()"
   ]
  },
  {
   "cell_type": "code",
   "execution_count": null,
   "metadata": {},
   "outputs": [],
   "source": []
  }
 ],
 "metadata": {
  "kernelspec": {
   "display_name": "GIA_Analytical",
   "language": "python",
   "name": "gia_analytical"
  },
  "language_info": {
   "codemirror_mode": {
    "name": "ipython",
    "version": 3
   },
   "file_extension": ".py",
   "mimetype": "text/x-python",
   "name": "python",
   "nbconvert_exporter": "python",
   "pygments_lexer": "ipython3",
   "version": "3.11.5"
  }
 },
 "nbformat": 4,
 "nbformat_minor": 4
}
