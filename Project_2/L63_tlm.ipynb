{
 "cells": [
  {
   "cell_type": "code",
   "execution_count": 33,
   "metadata": {},
   "outputs": [],
   "source": [
    "import numpy as np\n",
    "import matplotlib.pyplot as plt\n",
    "from mpl_toolkits.mplot3d import Axes3D"
   ]
  },
  {
   "cell_type": "markdown",
   "metadata": {},
   "source": [
    "## Program to investigate concepts of tangent linear models, adjoint sensitivity, and singular vectors with the Lorenz 63 model.\n",
    "\n",
    "Developed by Greg Hakim, Ryan Torn, Aneesh Subramanian"
   ]
  },
  {
   "cell_type": "markdown",
   "metadata": {},
   "source": [
    "###  Compute right-hand side of the Lorenz 63 model equations"
   ]
  },
  {
   "cell_type": "code",
   "execution_count": 34,
   "metadata": {},
   "outputs": [],
   "source": [
    "def lorenz(x, y, z, s=10, r=28, b=2.667):\n",
    "    dxdt = s*(y - x)\n",
    "    dydt = r*x - y - x*z\n",
    "    dzdt = x*y - b*z\n",
    "    return dxdt, dydt, dzdt"
   ]
  },
  {
   "cell_type": "markdown",
   "metadata": {},
   "source": [
    "###  Compute the tangent linear model matrix for Lorenz 63 model by brute force based on input forecast trajectory"
   ]
  },
  {
   "cell_type": "code",
   "execution_count": 35,
   "metadata": {},
   "outputs": [],
   "source": [
    "def lorenz_tlm(tvec, x, y, z, s=10, r=28, b=2.667):\n",
    "\n",
    "    v1 = np.array([1, 0, 0])\n",
    "    v2 = np.array([0, 1, 0])\n",
    "    v3 = np.array([0, 0, 1])\n",
    "\n",
    "    for t in range(len(tvec)-1):\n",
    "\n",
    "      tlm = np.array([[-s, s, 0], [(r-z[t]), -1., -x[t]], [y[t], x[t], -b]])\n",
    "\n",
    "      v1 = v1 + np.matmul(tlm,v1)*(tvec[t+1]-tvec[t])\n",
    "      v2 = v2 + np.matmul(tlm,v2)*(tvec[t+1]-tvec[t])\n",
    "      v3 = v3 + np.matmul(tlm,v3)*(tvec[t+1]-tvec[t])\n",
    "\n",
    "    M = np.transpose([v1, v2, v3])\n",
    "    \n",
    "    return M"
   ]
  },
  {
   "cell_type": "markdown",
   "metadata": {},
   "source": [
    "###  Compute the distance between two points in Lorenz 63 space based on Euclidian distance norm"
   ]
  },
  {
   "cell_type": "code",
   "execution_count": 36,
   "metadata": {},
   "outputs": [],
   "source": [
    "def euclid_norm(x1, y1, z1, x2, y2, z2):\n",
    "\n",
    "    print(\"x, y, z error: \",x2-x1,y2-y1,z2-z1)\n",
    "\n",
    "    err = np.sqrt((x2-x1)**2 + (y2-y1)**2 + (z2-z1)**2)\n",
    "    return err\n",
    "\n",
    "\n",
    "dt         = 0.002   #  time step of the model (do not need to change)\n",
    "num_steps  = 20000   #  Number of time steps for full model trajectory\n",
    " \n",
    "step1      = 1000    #  model time step to initiate forecast from\n",
    "fcst_len   = 1.0     #  forecast length in model timesteps\n",
    "tl_freq    = 1       #  frequency of model timesteps to use in computing tangent linear model\n",
    "sing_val   = 1       #  singular value plot/compute\n",
    "ic_error   = np.array([0.1, 0.1, 0.1])  # initial condition error to add to forecast\n",
    "xf_sens    = np.array([0., 0., 1.])  #  metric to compute sensitivity in x, y, z space (0, 0, 1) means compute sensitivity of z forecast\n",
    "\n",
    "plot3d     = True    #  True to plot forecast in 3D space\n",
    "plotxz     = True    #  True to plot in x-z plane\n",
    "plot_nlfcst = False  #  True to plt non-linear forecast\n",
    "plot_sv     = True   #  True to plot singular vectors\n",
    "sv_plot_freq = 20    #  Frequency of time steps to plot singular vectors\n",
    "\n",
    "fcst_steps = int(fcst_len / dt)"
   ]
  },
  {
   "cell_type": "markdown",
   "metadata": {},
   "source": [
    "###  Create arrays needed for calculations.  Need one more for the initial values"
   ]
  },
  {
   "cell_type": "code",
   "execution_count": 37,
   "metadata": {},
   "outputs": [],
   "source": [
    "xtraj = np.empty(num_steps + 1)\n",
    "ytraj = np.empty(num_steps + 1)\n",
    "ztraj = np.empty(num_steps + 1)\n",
    "\n",
    "tfcst = np.empty(fcst_steps + 1)\n",
    "xfcst = np.empty(fcst_steps + 1)\n",
    "yfcst = np.empty(fcst_steps + 1)\n",
    "zfcst = np.empty(fcst_steps + 1)\n",
    "\n",
    "xtrue = np.empty(fcst_steps + 1)\n",
    "ytrue = np.empty(fcst_steps + 1)\n",
    "ztrue = np.empty(fcst_steps + 1)\n",
    "\n",
    "ttlm  = []\n",
    "xtlm  = []\n",
    "ytlm  = []\n",
    "ztlm  = []\n",
    "\n",
    "# Set initial values\n",
    "xtraj[0], ytraj[0], ztraj[0] = (0., 1., 1.05)"
   ]
  },
  {
   "cell_type": "markdown",
   "metadata": {},
   "source": [
    "### Step through time, calculating the partial derivatives at the current point and using them to estimate the next point"
   ]
  },
  {
   "cell_type": "code",
   "execution_count": 38,
   "metadata": {},
   "outputs": [],
   "source": [
    "for i in range(num_steps):\n",
    "   x_dot, y_dot, z_dot = lorenz(xtraj[i], ytraj[i], ztraj[i])\n",
    "   xtraj[i + 1] = xtraj[i] + (x_dot * dt)\n",
    "   ytraj[i + 1] = ytraj[i] + (y_dot * dt)\n",
    "   ztraj[i + 1] = ztraj[i] + (z_dot * dt)"
   ]
  },
  {
   "cell_type": "markdown",
   "metadata": {},
   "source": [
    "###  Now initiate forecast from specified time step, add initial condition error"
   ]
  },
  {
   "cell_type": "code",
   "execution_count": 39,
   "metadata": {},
   "outputs": [],
   "source": [
    "tfcst[0] = 0.0\n",
    "xtrue[0], ytrue[0], ztrue[0] = (xtraj[step1], ytraj[step1], ztraj[step1])\n",
    "xfcst[0], yfcst[0], zfcst[0] = (xtrue[0]+ic_error[0], ytrue[0]+ic_error[1], ztrue[0]+ic_error[2])"
   ]
  },
  {
   "cell_type": "markdown",
   "metadata": {},
   "source": [
    "###  Step the forecast and truth through time"
   ]
  },
  {
   "cell_type": "code",
   "execution_count": 40,
   "metadata": {},
   "outputs": [],
   "source": [
    "for i in range(fcst_steps):\n",
    "\n",
    "   tfcst[i+1] = tfcst[i] + dt\n",
    "\n",
    "   x_dot, y_dot, z_dot = lorenz(xfcst[i], yfcst[i], zfcst[i])\n",
    "   xfcst[i + 1] = xfcst[i] + (x_dot * dt)\n",
    "   yfcst[i + 1] = yfcst[i] + (y_dot * dt)\n",
    "   zfcst[i + 1] = zfcst[i] + (z_dot * dt)\n",
    "\n",
    "   x_dot, y_dot, z_dot = lorenz(xtrue[i], ytrue[i], ztrue[i])\n",
    "   xtrue[i + 1] = xtrue[i] + (x_dot * dt)\n",
    "   ytrue[i + 1] = ytrue[i] + (y_dot * dt)\n",
    "   ztrue[i + 1] = ztrue[i] + (z_dot * dt)\n",
    "\n",
    "   #  Add this forecast time to tangent linear trajectory, if needed\n",
    "   if ( i % tl_freq == 0 ):\n",
    "\n",
    "      ttlm.append(tfcst[i])\n",
    "      xtlm.append(xtrue[i])\n",
    "      ytlm.append(ytrue[i])\n",
    "      ztlm.append(ztrue[i])"
   ]
  },
  {
   "cell_type": "markdown",
   "metadata": {},
   "source": [
    "###  Compute tangent linear model and estimated forecast error"
   ]
  },
  {
   "cell_type": "code",
   "execution_count": 41,
   "metadata": {},
   "outputs": [
    {
     "name": "stdout",
     "output_type": "stream",
     "text": [
      "x, y, z error:  0.11648942538284433 0.15712951517251955 -0.08661675100867663\n",
      "tangent linear estimated error:  0.21392038780741632\n",
      "x, y, z error:  0.11682624268418174 0.15680152346669463 -0.08828333209996231\n",
      "actual Non-linear model error:  0.21454378450062808\n"
     ]
    }
   ],
   "source": [
    "M = lorenz_tlm(ttlm, xtlm, ytlm, ztlm)\n",
    "tl_xf = np.matmul(M,ic_error)\n",
    "\n",
    "print(\"tangent linear estimated error: \", euclid_norm(tl_xf[0], tl_xf[1], tl_xf[2], 0., 0., 0.))\n",
    "print(\"actual Non-linear model error: \", euclid_norm(xfcst[-1], yfcst[-1], zfcst[-1], xtrue[-1], ytrue[-1], ztrue[-1]))\n",
    "\n",
    "#  Compute initial condition sensitivity from adjoint of tangent linear model\n",
    "xi_sens = np.matmul(np.transpose(M),xf_sens)\n",
    "\n",
    "#  add initial condition error to truth consistent with sensitivity, but same size as ic_error\n",
    "xi_sens[:] = xi_sens[:] / np.sqrt(np.sum(xi_sens[:]**2)) * np.sqrt(np.sum(ic_error[:]**2))\n",
    "\n",
    "xsens = np.empty(fcst_steps + 1)\n",
    "ysens = np.empty(fcst_steps + 1)\n",
    "zsens = np.empty(fcst_steps + 1)\n",
    "xsens[0], ysens[0], zsens[0] = (xtrue[0]+xi_sens[0], ytrue[0]+xi_sens[1], ztrue[0]+xi_sens[2])"
   ]
  },
  {
   "cell_type": "markdown",
   "metadata": {},
   "source": [
    "###  Step the sensitivity IC error forecast forward in time, compute error"
   ]
  },
  {
   "cell_type": "code",
   "execution_count": 42,
   "metadata": {},
   "outputs": [
    {
     "name": "stdout",
     "output_type": "stream",
     "text": [
      "x, y, z error:  0.10133397875501338 0.03140522363315945 -0.20555588153571946\n",
      "Error from forecast with sensitivity initial condition error:  0.23131814402613773\n",
      "Singular Value:  1.4849703940755725\n",
      "x, y, z error:  0.14047047732991835 0.14189110868375288 -0.1639058509980238\n",
      "Error from forecast with SV initial condition error:  0.2583218336033291\n"
     ]
    }
   ],
   "source": [
    "for i in range(fcst_steps):\n",
    "\n",
    "   x_dot, y_dot, z_dot = lorenz(xsens[i], ysens[i], zsens[i])\n",
    "   xsens[i + 1] = xsens[i] + (x_dot * dt)\n",
    "   ysens[i + 1] = ysens[i] + (y_dot * dt)\n",
    "   zsens[i + 1] = zsens[i] + (z_dot * dt)\n",
    "\n",
    "print(\"Error from forecast with sensitivity initial condition error: \", \n",
    "        euclid_norm(xsens[-1], ysens[-1], zsens[-1], xtrue[-1], ytrue[-1], ztrue[-1]))\n",
    "\n",
    "#  Compute singular value decomposition of tangent linear model\n",
    "u, s, vt = np.linalg.svd(M, full_matrices=True)\n",
    "\n",
    "print(\"Singular Value: \",s[sing_val-1])\n",
    "\n",
    "#  Add initial-time singular vector to forecast\n",
    "ic_sing = np.array(vt[sing_val-1,:])\n",
    "ic_sing[:] = ic_sing[:] / np.sqrt(np.sum(ic_sing[:]**2)) * np.sqrt(np.sum(ic_error[:]**2))\n",
    "\n",
    "xsing = np.empty(fcst_steps + 1)\n",
    "ysing = np.empty(fcst_steps + 1)\n",
    "zsing = np.empty(fcst_steps + 1)\n",
    "xsing[0], ysing[0], zsing[0] = (xtrue[0]+ic_sing[0], ytrue[0]+ic_sing[1], ztrue[0]+ic_sing[2])\n",
    "\n",
    "#  Step forecast with singular vector IC error forward in time, compute error\n",
    "for i in range(fcst_steps):\n",
    "\n",
    "   x_dot, y_dot, z_dot = lorenz(xsing[i], ysing[i], zsing[i])\n",
    "   xsing[i + 1] = xsing[i] + (x_dot * dt)\n",
    "   ysing[i + 1] = ysing[i] + (y_dot * dt)\n",
    "   zsing[i + 1] = zsing[i] + (z_dot * dt)\n",
    "\n",
    "print(\"Error from forecast with SV initial condition error: \",\n",
    "        euclid_norm(xsing[-1], ysing[-1], zsing[-1], xtrue[-1], ytrue[-1], ztrue[-1]) )\n",
    "\n",
    "if ( plot3d ):\n",
    "\n",
    "  fig = plt.figure()\n",
    "  ax = fig.add_subplot(projection = '3d')\n",
    "\n",
    "  ax.plot(xtraj, ytraj, ztraj, lw=0.5, color='lightgray')\n",
    "  ax.plot(xtrue, ytrue, ztrue, lw=0.5, color='red')\n",
    "  ax.set_xlabel(\"X Axis\")\n",
    "  ax.set_ylabel(\"Y Axis\")\n",
    "  ax.set_zlabel(\"Z Axis\")\n",
    "\n",
    "  plt.savefig('lorenz_xyz.png',format='png',dpi=150,bbox_inches='tight')\n",
    "  plt.close(fig)\n",
    "\n",
    "\n",
    "if ( plotxz ):\n",
    "\n",
    "  fig = plt.figure()\n",
    "  ax = fig.gca()\n",
    "  ax.plot(xtraj, ztraj, lw=0.5, color='lightgray')\n",
    "  ax.plot(xtrue, ztrue, '-', color='red')\n",
    "  ax.plot(xtrue[0], ztrue[0], 'o', color='red')\n",
    "  ax.plot(xtrue[-1], ztrue[-1], '^', color='red')\n",
    "  \n",
    "  if ( plot_nlfcst ):\n",
    "    ax.plot(xfcst, zfcst, '-', color='green')\n",
    "    ax.plot(xfcst[0], zfcst[0], 'o', color='green')\n",
    "    ax.plot(xfcst[-1], zfcst[-1], '^', color='green')\n",
    "\n",
    "  xmin = np.min([np.min(xtrue), np.min(xfcst)])\n",
    "  xmax = np.max([np.max(xtrue), np.max(xfcst)])\n",
    "  zmin = np.min([np.min(ztrue), np.min(zfcst)])\n",
    "  zmax = np.max([np.max(ztrue), np.max(zfcst)])\n",
    "\n",
    "  if ( plot_sv ):\n",
    "    ax.plot([xtrue[0], xsing[0]], [ztrue[0], zsing[0]], '-', color='blue')\n",
    "    ax.plot([xtrue[-1], xsing[-1]], [ztrue[-1], zsing[-1]], '-', color='blue')\n",
    "    for i in range(0,len(xsing),sv_plot_freq):\n",
    "      ax.plot([xtrue[i], xsing[i]], [ztrue[i], zsing[i]], '-', color='blue')\n",
    "\n",
    "  plt.axis([xmin-(xmax-xmin)*0.08, xmax+(xmax-xmin)*0.08, zmin-(zmax-zmin)*0.08, zmax+(zmax-zmin)*0.08])\n",
    "  plt.xlabel('x')\n",
    "  plt.ylabel('z')\n",
    "\n",
    "  plt.savefig('lorenz_xz.png',format='png',dpi=150,bbox_inches='tight')\n",
    "  plt.close(fig)"
   ]
  },
  {
   "cell_type": "code",
   "execution_count": null,
   "metadata": {},
   "outputs": [],
   "source": []
  }
 ],
 "metadata": {
  "kernelspec": {
   "display_name": "GIA_Analytical",
   "language": "python",
   "name": "python3"
  },
  "language_info": {
   "codemirror_mode": {
    "name": "ipython",
    "version": 3
   },
   "file_extension": ".py",
   "mimetype": "text/x-python",
   "name": "python",
   "nbconvert_exporter": "python",
   "pygments_lexer": "ipython3",
   "version": "3.12.3"
  }
 },
 "nbformat": 4,
 "nbformat_minor": 4
}
